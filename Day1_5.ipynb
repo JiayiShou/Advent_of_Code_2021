{
  "nbformat": 4,
  "nbformat_minor": 0,
  "metadata": {
    "colab": {
      "name": "Day1-5.ipynb",
      "provenance": [],
      "authorship_tag": "ABX9TyOvowJon1fjTxdhhkhqZ5XX"
    },
    "kernelspec": {
      "name": "python3",
      "display_name": "Python 3"
    },
    "language_info": {
      "name": "python"
    }
  },
  "cells": [
    {
      "cell_type": "code",
      "metadata": {
        "colab": {
          "base_uri": "https://localhost:8080/"
        },
        "id": "KZizLAjlalvT",
        "outputId": "c88f4bb9-3810-446d-b44d-b6c17329e3a4"
      },
      "source": [
        "from google.colab import drive\n",
        "drive.mount('/content/drive')\n",
        "import numpy as np"
      ],
      "execution_count": null,
      "outputs": [
        {
          "output_type": "stream",
          "name": "stdout",
          "text": [
            "Mounted at /content/drive\n"
          ]
        }
      ]
    },
    {
      "cell_type": "markdown",
      "metadata": {
        "id": "CHbptFXiie7j"
      },
      "source": [
        "##Day 1: Sonar Sweep"
      ]
    },
    {
      "cell_type": "code",
      "metadata": {
        "id": "6l7mW7F_bxcC"
      },
      "source": [
        "filelocation = '/content/drive/MyDrive/AdventOfCode/input1.txt'\n",
        "\n",
        "file1 = np.loadtxt(filelocation)\n",
        "print(file1[2])"
      ],
      "execution_count": null,
      "outputs": []
    },
    {
      "cell_type": "code",
      "metadata": {
        "colab": {
          "base_uri": "https://localhost:8080/"
        },
        "id": "CezpaSGNcIBG",
        "outputId": "4149d4a2-c091-4bed-a586-6e9f188a6b64"
      },
      "source": [
        "count = 0\n",
        "num = file1[0]\n",
        "for i in range(len(file1)):\n",
        "  #print(FileContent[i])\n",
        "  if file1[i] > num:\n",
        "    count += 1\n",
        "  num = file1[i]\n",
        "print(count)"
      ],
      "execution_count": null,
      "outputs": [
        {
          "output_type": "stream",
          "name": "stdout",
          "text": [
            "1228\n"
          ]
        }
      ]
    },
    {
      "cell_type": "code",
      "metadata": {
        "colab": {
          "base_uri": "https://localhost:8080/"
        },
        "id": "ajUc6MjYfFUX",
        "outputId": "3e2c4e0c-7179-4f41-82d3-3a1c8f4e214e"
      },
      "source": [
        "count = 0 \n",
        "num = file1[0]+file1[1]+file1[2]\n",
        "for i in range(len(file1)-2):\n",
        "  sum = file1[i]+file1[i+1]+file1[i+2]\n",
        "  if sum > num:\n",
        "    count += 1\n",
        "  num = sum\n",
        "print(count) "
      ],
      "execution_count": null,
      "outputs": [
        {
          "output_type": "stream",
          "name": "stdout",
          "text": [
            "1257\n"
          ]
        }
      ]
    },
    {
      "cell_type": "markdown",
      "metadata": {
        "id": "6PDxnQysi4-v"
      },
      "source": [
        "##Day 2: Dive!"
      ]
    },
    {
      "cell_type": "code",
      "metadata": {
        "colab": {
          "base_uri": "https://localhost:8080/"
        },
        "id": "f6CThjq_ikLJ",
        "outputId": "1b2399bc-4be2-4e4f-f0e1-c52f8f055ee3"
      },
      "source": [
        "filelocation = '/content/drive/MyDrive/AdventOfCode/input2.txt'\n",
        "my_file = open(filelocation, \"r\")\n",
        "content = my_file.readlines()\n",
        "my_file.close()\n",
        "print(content)\n",
        "\n",
        "f = 0\n",
        "d = 0\n",
        "for i in content:\n",
        "  if i[0] == 'f':\n",
        "    n = int(i[8])\n",
        "    f += n\n",
        "  elif i[0] == 'd':\n",
        "    a = int(i[5])\n",
        "    d += a\n",
        "  elif i[0] == 'u':\n",
        "    u = int(i[3])\n",
        "    d -= u\n",
        "print(f*d)"
      ],
      "execution_count": null,
      "outputs": [
        {
          "output_type": "stream",
          "name": "stdout",
          "text": [
            "['forward 7\\n', 'forward 9\\n', 'forward 9\\n', 'down 3\\n', 'down 8\\n', 'down 3\\n', 'forward 6\\n', 'down 7\\n', 'up 3\\n', 'forward 3\\n', 'up 3\\n', 'down 3\\n', 'down 9\\n', 'down 6\\n', 'forward 8\\n', 'down 3\\n', 'down 9\\n', 'forward 4\\n', 'forward 3\\n', 'down 1\\n', 'forward 2\\n', 'down 5\\n', 'forward 9\\n', 'forward 6\\n', 'up 1\\n', 'forward 8\\n', 'down 9\\n', 'forward 8\\n', 'down 7\\n', 'down 9\\n', 'down 4\\n', 'down 2\\n', 'forward 2\\n', 'down 6\\n', 'up 8\\n', 'forward 3\\n', 'forward 7\\n', 'down 2\\n', 'forward 4\\n', 'down 3\\n', 'down 1\\n', 'down 8\\n', 'forward 5\\n', 'forward 6\\n', 'down 3\\n', 'forward 1\\n', 'up 1\\n', 'down 8\\n', 'forward 5\\n', 'forward 2\\n', 'forward 9\\n', 'up 4\\n', 'down 1\\n', 'down 3\\n', 'up 5\\n', 'up 5\\n', 'forward 7\\n', 'up 1\\n', 'forward 8\\n', 'forward 4\\n', 'forward 3\\n', 'down 9\\n', 'forward 2\\n', 'forward 5\\n', 'down 5\\n', 'up 7\\n', 'forward 4\\n', 'up 5\\n', 'down 5\\n', 'down 4\\n', 'down 9\\n', 'forward 1\\n', 'up 3\\n', 'forward 6\\n', 'down 3\\n', 'forward 9\\n', 'down 1\\n', 'up 5\\n', 'down 7\\n', 'forward 3\\n', 'forward 3\\n', 'up 9\\n', 'down 2\\n', 'down 4\\n', 'forward 1\\n', 'forward 2\\n', 'down 4\\n', 'down 4\\n', 'up 5\\n', 'forward 9\\n', 'down 3\\n', 'down 1\\n', 'down 8\\n', 'down 2\\n', 'down 8\\n', 'forward 9\\n', 'forward 5\\n', 'down 2\\n', 'forward 8\\n', 'up 9\\n', 'down 8\\n', 'down 5\\n', 'down 6\\n', 'down 2\\n', 'down 4\\n', 'up 2\\n', 'forward 4\\n', 'down 9\\n', 'forward 4\\n', 'down 6\\n', 'down 9\\n', 'forward 9\\n', 'down 3\\n', 'down 1\\n', 'up 2\\n', 'down 6\\n', 'forward 2\\n', 'down 4\\n', 'down 6\\n', 'forward 5\\n', 'up 2\\n', 'up 8\\n', 'down 2\\n', 'up 9\\n', 'forward 6\\n', 'down 8\\n', 'down 7\\n', 'forward 3\\n', 'forward 5\\n', 'forward 4\\n', 'down 5\\n', 'forward 2\\n', 'up 1\\n', 'up 3\\n', 'up 7\\n', 'forward 2\\n', 'forward 2\\n', 'up 6\\n', 'down 3\\n', 'down 7\\n', 'down 8\\n', 'forward 5\\n', 'up 5\\n', 'down 9\\n', 'forward 7\\n', 'down 2\\n', 'down 6\\n', 'forward 8\\n', 'down 1\\n', 'down 7\\n', 'down 2\\n', 'forward 2\\n', 'forward 4\\n', 'down 5\\n', 'up 5\\n', 'down 6\\n', 'down 5\\n', 'down 8\\n', 'forward 5\\n', 'forward 4\\n', 'down 3\\n', 'up 7\\n', 'up 4\\n', 'forward 7\\n', 'down 9\\n', 'down 3\\n', 'down 7\\n', 'forward 6\\n', 'up 4\\n', 'down 2\\n', 'down 9\\n', 'up 1\\n', 'down 2\\n', 'up 7\\n', 'down 7\\n', 'down 1\\n', 'down 5\\n', 'forward 9\\n', 'down 5\\n', 'down 8\\n', 'down 4\\n', 'down 5\\n', 'forward 3\\n', 'down 5\\n', 'forward 5\\n', 'down 6\\n', 'forward 6\\n', 'up 7\\n', 'down 7\\n', 'down 3\\n', 'down 8\\n', 'down 8\\n', 'up 5\\n', 'down 3\\n', 'up 4\\n', 'down 1\\n', 'up 4\\n', 'up 2\\n', 'up 2\\n', 'forward 6\\n', 'forward 3\\n', 'forward 4\\n', 'down 9\\n', 'up 2\\n', 'forward 2\\n', 'down 2\\n', 'down 6\\n', 'up 2\\n', 'forward 1\\n', 'up 4\\n', 'forward 5\\n', 'up 5\\n', 'forward 3\\n', 'forward 7\\n', 'down 2\\n', 'up 6\\n', 'forward 1\\n', 'up 6\\n', 'down 8\\n', 'forward 1\\n', 'forward 7\\n', 'up 3\\n', 'up 5\\n', 'forward 4\\n', 'down 1\\n', 'forward 7\\n', 'up 7\\n', 'forward 5\\n', 'forward 6\\n', 'forward 6\\n', 'forward 2\\n', 'down 6\\n', 'down 1\\n', 'forward 4\\n', 'forward 2\\n', 'forward 2\\n', 'up 2\\n', 'forward 1\\n', 'down 2\\n', 'down 8\\n', 'forward 5\\n', 'forward 3\\n', 'up 1\\n', 'forward 5\\n', 'down 8\\n', 'down 6\\n', 'down 1\\n', 'up 2\\n', 'down 1\\n', 'down 3\\n', 'forward 3\\n', 'up 9\\n', 'forward 5\\n', 'down 6\\n', 'up 8\\n', 'down 9\\n', 'up 4\\n', 'down 8\\n', 'forward 2\\n', 'forward 9\\n', 'forward 6\\n', 'forward 2\\n', 'up 5\\n', 'down 5\\n', 'down 6\\n', 'forward 2\\n', 'forward 3\\n', 'forward 5\\n', 'forward 7\\n', 'down 8\\n', 'forward 1\\n', 'forward 1\\n', 'forward 4\\n', 'forward 5\\n', 'down 4\\n', 'forward 6\\n', 'forward 4\\n', 'forward 6\\n', 'down 5\\n', 'down 8\\n', 'down 7\\n', 'up 9\\n', 'down 8\\n', 'forward 2\\n', 'down 9\\n', 'forward 3\\n', 'down 4\\n', 'up 1\\n', 'down 6\\n', 'forward 4\\n', 'down 9\\n', 'down 5\\n', 'down 3\\n', 'up 6\\n', 'down 1\\n', 'down 3\\n', 'forward 2\\n', 'down 7\\n', 'down 9\\n', 'forward 6\\n', 'forward 1\\n', 'forward 8\\n', 'down 6\\n', 'down 2\\n', 'down 2\\n', 'forward 7\\n', 'up 8\\n', 'forward 5\\n', 'forward 7\\n', 'forward 7\\n', 'forward 3\\n', 'up 3\\n', 'forward 3\\n', 'up 4\\n', 'down 5\\n', 'forward 1\\n', 'forward 7\\n', 'forward 7\\n', 'down 9\\n', 'up 4\\n', 'forward 1\\n', 'down 9\\n', 'forward 3\\n', 'forward 8\\n', 'down 3\\n', 'forward 6\\n', 'down 7\\n', 'down 2\\n', 'forward 1\\n', 'down 4\\n', 'down 6\\n', 'down 2\\n', 'forward 7\\n', 'forward 7\\n', 'down 9\\n', 'forward 7\\n', 'down 8\\n', 'forward 7\\n', 'down 5\\n', 'down 7\\n', 'forward 1\\n', 'forward 7\\n', 'up 6\\n', 'down 5\\n', 'forward 9\\n', 'down 2\\n', 'forward 7\\n', 'up 4\\n', 'down 1\\n', 'down 7\\n', 'forward 4\\n', 'down 2\\n', 'down 4\\n', 'forward 4\\n', 'down 8\\n', 'forward 3\\n', 'forward 2\\n', 'down 3\\n', 'down 4\\n', 'forward 2\\n', 'forward 6\\n', 'down 9\\n', 'down 3\\n', 'forward 9\\n', 'up 4\\n', 'up 1\\n', 'forward 7\\n', 'up 3\\n', 'up 8\\n', 'down 2\\n', 'up 2\\n', 'up 6\\n', 'forward 8\\n', 'down 3\\n', 'up 4\\n', 'up 6\\n', 'down 8\\n', 'forward 5\\n', 'down 1\\n', 'up 2\\n', 'up 5\\n', 'forward 7\\n', 'down 6\\n', 'up 4\\n', 'forward 1\\n', 'up 9\\n', 'forward 8\\n', 'down 3\\n', 'up 8\\n', 'down 3\\n', 'down 5\\n', 'up 6\\n', 'up 8\\n', 'down 2\\n', 'up 4\\n', 'down 1\\n', 'down 2\\n', 'forward 4\\n', 'up 9\\n', 'up 1\\n', 'up 2\\n', 'forward 4\\n', 'forward 9\\n', 'up 8\\n', 'forward 8\\n', 'down 8\\n', 'up 9\\n', 'forward 3\\n', 'forward 2\\n', 'down 7\\n', 'up 1\\n', 'up 8\\n', 'up 1\\n', 'up 6\\n', 'up 9\\n', 'forward 6\\n', 'forward 8\\n', 'forward 8\\n', 'forward 6\\n', 'down 2\\n', 'down 4\\n', 'forward 8\\n', 'up 3\\n', 'forward 1\\n', 'down 3\\n', 'down 1\\n', 'down 9\\n', 'up 9\\n', 'down 4\\n', 'forward 7\\n', 'down 3\\n', 'forward 1\\n', 'down 6\\n', 'forward 7\\n', 'forward 3\\n', 'forward 2\\n', 'down 5\\n', 'forward 6\\n', 'up 8\\n', 'forward 6\\n', 'forward 8\\n', 'down 1\\n', 'up 3\\n', 'down 1\\n', 'down 7\\n', 'up 2\\n', 'down 8\\n', 'forward 7\\n', 'down 1\\n', 'forward 5\\n', 'forward 5\\n', 'up 9\\n', 'down 1\\n', 'forward 6\\n', 'up 1\\n', 'forward 1\\n', 'down 8\\n', 'down 5\\n', 'forward 7\\n', 'forward 5\\n', 'forward 3\\n', 'down 2\\n', 'down 4\\n', 'forward 3\\n', 'forward 2\\n', 'forward 3\\n', 'down 1\\n', 'down 6\\n', 'down 8\\n', 'down 5\\n', 'forward 6\\n', 'forward 5\\n', 'down 8\\n', 'forward 2\\n', 'forward 6\\n', 'forward 1\\n', 'down 3\\n', 'down 7\\n', 'down 1\\n', 'down 1\\n', 'down 6\\n', 'down 5\\n', 'forward 1\\n', 'up 9\\n', 'down 4\\n', 'down 8\\n', 'forward 4\\n', 'down 3\\n', 'down 6\\n', 'down 9\\n', 'up 4\\n', 'forward 6\\n', 'down 1\\n', 'down 3\\n', 'up 5\\n', 'up 7\\n', 'forward 6\\n', 'up 6\\n', 'down 6\\n', 'down 2\\n', 'up 1\\n', 'forward 1\\n', 'down 3\\n', 'forward 2\\n', 'down 6\\n', 'down 5\\n', 'down 1\\n', 'down 5\\n', 'up 2\\n', 'down 3\\n', 'up 1\\n', 'forward 7\\n', 'down 3\\n', 'forward 5\\n', 'down 4\\n', 'up 1\\n', 'down 7\\n', 'forward 3\\n', 'up 9\\n', 'down 2\\n', 'up 5\\n', 'forward 7\\n', 'up 8\\n', 'forward 8\\n', 'forward 8\\n', 'up 8\\n', 'forward 8\\n', 'forward 1\\n', 'forward 2\\n', 'down 8\\n', 'forward 6\\n', 'down 3\\n', 'down 9\\n', 'forward 9\\n', 'forward 4\\n', 'down 6\\n', 'down 4\\n', 'forward 3\\n', 'up 2\\n', 'up 7\\n', 'down 9\\n', 'down 2\\n', 'forward 8\\n', 'down 2\\n', 'down 3\\n', 'down 7\\n', 'forward 9\\n', 'down 4\\n', 'up 3\\n', 'down 4\\n', 'down 5\\n', 'forward 9\\n', 'down 9\\n', 'forward 4\\n', 'forward 3\\n', 'down 6\\n', 'forward 4\\n', 'down 5\\n', 'down 2\\n', 'forward 1\\n', 'down 4\\n', 'forward 2\\n', 'up 3\\n', 'up 3\\n', 'forward 4\\n', 'down 4\\n', 'up 2\\n', 'up 8\\n', 'forward 8\\n', 'down 5\\n', 'down 8\\n', 'down 7\\n', 'down 7\\n', 'forward 6\\n', 'forward 5\\n', 'up 4\\n', 'down 6\\n', 'down 9\\n', 'forward 1\\n', 'down 3\\n', 'forward 8\\n', 'down 4\\n', 'forward 3\\n', 'down 7\\n', 'forward 3\\n', 'forward 3\\n', 'forward 1\\n', 'forward 5\\n', 'down 7\\n', 'forward 4\\n', 'up 5\\n', 'down 9\\n', 'down 3\\n', 'down 6\\n', 'down 6\\n', 'forward 1\\n', 'down 2\\n', 'forward 8\\n', 'forward 5\\n', 'forward 9\\n', 'up 2\\n', 'forward 5\\n', 'down 1\\n', 'up 2\\n', 'forward 7\\n', 'down 9\\n', 'down 2\\n', 'up 9\\n', 'down 6\\n', 'forward 4\\n', 'down 8\\n', 'forward 4\\n', 'down 7\\n', 'down 6\\n', 'up 7\\n', 'up 3\\n', 'forward 6\\n', 'forward 7\\n', 'down 4\\n', 'down 6\\n', 'up 1\\n', 'forward 6\\n', 'down 6\\n', 'forward 5\\n', 'forward 9\\n', 'forward 5\\n', 'forward 7\\n', 'down 3\\n', 'down 9\\n', 'forward 7\\n', 'forward 6\\n', 'down 2\\n', 'down 9\\n', 'down 8\\n', 'down 5\\n', 'forward 3\\n', 'up 5\\n', 'down 4\\n', 'forward 5\\n', 'down 8\\n', 'forward 8\\n', 'up 3\\n', 'down 5\\n', 'up 8\\n', 'down 5\\n', 'down 1\\n', 'down 3\\n', 'down 1\\n', 'down 8\\n', 'up 9\\n', 'forward 1\\n', 'forward 5\\n', 'forward 9\\n', 'forward 9\\n', 'down 6\\n', 'forward 3\\n', 'up 6\\n', 'up 2\\n', 'down 6\\n', 'forward 4\\n', 'down 7\\n', 'up 1\\n', 'up 3\\n', 'down 3\\n', 'up 3\\n', 'up 1\\n', 'down 9\\n', 'down 2\\n', 'up 6\\n', 'down 6\\n', 'forward 8\\n', 'forward 3\\n', 'forward 1\\n', 'up 9\\n', 'down 2\\n', 'forward 6\\n', 'down 1\\n', 'forward 5\\n', 'up 8\\n', 'down 2\\n', 'forward 7\\n', 'forward 2\\n', 'down 1\\n', 'forward 6\\n', 'up 7\\n', 'down 7\\n', 'forward 3\\n', 'down 8\\n', 'down 6\\n', 'forward 3\\n', 'down 9\\n', 'down 7\\n', 'forward 5\\n', 'forward 5\\n', 'down 1\\n', 'forward 3\\n', 'up 8\\n', 'forward 8\\n', 'down 3\\n', 'up 4\\n', 'up 6\\n', 'up 5\\n', 'up 6\\n', 'down 8\\n', 'up 9\\n', 'down 6\\n', 'up 5\\n', 'down 6\\n', 'forward 4\\n', 'down 7\\n', 'forward 5\\n', 'forward 2\\n', 'down 1\\n', 'down 5\\n', 'forward 4\\n', 'forward 4\\n', 'down 9\\n', 'forward 6\\n', 'down 4\\n', 'forward 1\\n', 'forward 3\\n', 'down 5\\n', 'forward 2\\n', 'up 3\\n', 'forward 6\\n', 'down 2\\n', 'up 5\\n', 'down 6\\n', 'down 6\\n', 'forward 3\\n', 'up 5\\n', 'forward 4\\n', 'forward 3\\n', 'forward 6\\n', 'forward 5\\n', 'forward 7\\n', 'down 5\\n', 'down 8\\n', 'up 6\\n', 'up 3\\n', 'down 1\\n', 'forward 6\\n', 'down 4\\n', 'forward 7\\n', 'up 3\\n', 'forward 9\\n', 'down 3\\n', 'forward 2\\n', 'forward 8\\n', 'down 9\\n', 'down 2\\n', 'up 8\\n', 'down 3\\n', 'down 6\\n', 'forward 8\\n', 'forward 6\\n', 'up 5\\n', 'forward 9\\n', 'forward 7\\n', 'down 9\\n', 'forward 5\\n', 'down 1\\n', 'up 5\\n', 'down 4\\n', 'up 2\\n', 'forward 1\\n', 'up 9\\n', 'forward 1\\n', 'forward 2\\n', 'down 1\\n', 'forward 5\\n', 'forward 8\\n', 'down 8\\n', 'up 3\\n', 'down 4\\n', 'forward 6\\n', 'down 9\\n', 'down 9\\n', 'forward 7\\n', 'forward 3\\n', 'down 3\\n', 'down 7\\n', 'forward 8\\n', 'forward 1\\n', 'forward 6\\n', 'down 8\\n', 'up 2\\n', 'up 6\\n', 'forward 2\\n', 'down 6\\n', 'up 3\\n', 'down 5\\n', 'forward 9\\n', 'down 6\\n', 'down 9\\n', 'down 8\\n', 'down 5\\n', 'forward 3\\n', 'forward 3\\n', 'down 1\\n', 'forward 7\\n', 'forward 5\\n', 'down 3\\n', 'down 1\\n', 'down 9\\n', 'forward 4\\n', 'up 9\\n', 'up 8\\n', 'down 2\\n', 'down 1\\n', 'forward 6\\n', 'forward 5\\n', 'up 8\\n', 'up 4\\n', 'down 7\\n', 'forward 9\\n', 'forward 9\\n', 'up 4\\n', 'forward 3\\n', 'down 6\\n', 'forward 1\\n', 'down 2\\n', 'forward 2\\n', 'down 6\\n', 'forward 4\\n', 'down 2\\n', 'forward 9\\n', 'down 3\\n', 'down 4\\n', 'forward 9\\n', 'forward 4\\n', 'forward 7\\n', 'forward 8\\n', 'down 7\\n', 'up 5\\n', 'forward 3\\n', 'forward 1\\n', 'down 3\\n', 'forward 2\\n', 'forward 5\\n', 'forward 5\\n', 'down 5\\n', 'down 5\\n', 'down 6\\n', 'forward 3\\n', 'up 4\\n', 'forward 6\\n', 'down 1\\n', 'down 3\\n', 'down 5\\n', 'down 6\\n', 'up 1\\n', 'forward 3\\n', 'forward 2\\n', 'up 9\\n', 'forward 6\\n', 'up 1\\n', 'down 9\\n', 'up 3\\n', 'down 4\\n', 'forward 1\\n', 'down 4\\n', 'forward 3\\n', 'forward 5\\n', 'down 2\\n', 'forward 5\\n', 'down 5\\n', 'down 9\\n', 'down 8\\n', 'forward 5\\n', 'forward 7\\n', 'down 1\\n', 'forward 2\\n', 'up 5\\n', 'up 9\\n', 'forward 4\\n', 'up 7\\n', 'down 9\\n', 'forward 9\\n', 'up 9\\n', 'down 5\\n', 'up 8\\n', 'forward 1\\n', 'forward 8\\n', 'up 9\\n', 'down 1\\n', 'down 3\\n', 'down 6\\n', 'forward 8\\n', 'forward 9\\n', 'down 7\\n', 'forward 8\\n', 'down 9\\n', 'forward 7\\n', 'up 6\\n', 'forward 7\\n', 'forward 3\\n', 'forward 5\\n', 'down 4\\n', 'forward 3\\n', 'up 8\\n', 'up 3\\n', 'down 7\\n', 'up 3\\n', 'forward 6\\n', 'down 7\\n', 'forward 5\\n', 'down 5\\n', 'forward 8\\n', 'down 4\\n', 'up 1\\n', 'up 1\\n', 'forward 9\\n', 'forward 8\\n', 'up 3\\n', 'down 5\\n', 'forward 8\\n', 'forward 6\\n', 'forward 9\\n', 'forward 5\\n', 'forward 3\\n', 'down 5\\n', 'forward 4\\n', 'down 6\\n', 'forward 9\\n', 'up 6\\n', 'down 3\\n', 'down 8\\n', 'down 5\\n', 'down 8\\n', 'down 4\\n', 'down 5\\n', 'down 2\\n', 'down 4\\n', 'down 8\\n', 'down 2\\n', 'down 7\\n', 'down 9\\n', 'down 5\\n', 'up 3\\n', 'down 1\\n', 'forward 6\\n', 'forward 4\\n', 'forward 1\\n', 'forward 6\\n', 'forward 4\\n', 'down 1\\n', 'forward 3\\n', 'forward 1\\n', 'forward 1\\n', 'down 5\\n', 'down 4\\n', 'up 6\\n', 'forward 2\\n', 'up 6\\n', 'down 8\\n', 'forward 1\\n', 'up 7\\n', 'down 4\\n', 'up 2\\n', 'down 3\\n', 'forward 6\\n', 'forward 2\\n', 'up 5\\n', 'forward 7\\n', 'down 8\\n', 'forward 6\\n', 'up 6\\n', 'down 9\\n', 'down 6\\n', 'down 5\\n', 'down 8\\n', 'down 5\\n', 'down 8\\n', 'down 2\\n', 'down 7\\n', 'up 6\\n', 'up 9\\n', 'down 3\\n', 'down 5\\n', 'forward 3\\n', 'up 7\\n', 'down 7\\n', 'up 8\\n', 'forward 4\\n', 'forward 2\\n', 'down 1\\n', 'up 1\\n', 'up 6\\n', 'up 2\\n', 'down 1\\n', 'down 6\\n', 'down 1\\n', 'forward 4\\n', 'down 6\\n', 'forward 9\\n', 'forward 2\\n', 'forward 1\\n', 'forward 7\\n', 'forward 5\\n']\n",
            "2036120\n"
          ]
        }
      ]
    },
    {
      "cell_type": "code",
      "metadata": {
        "colab": {
          "base_uri": "https://localhost:8080/"
        },
        "id": "sTl1kHAaj7wE",
        "outputId": "6a056f53-9b5b-41ee-f709-c9de9749ae34"
      },
      "source": [
        "f = 0\n",
        "d = 0\n",
        "aim = 0\n",
        "for i in content:\n",
        "  if i[0] == 'f':\n",
        "    n = int(i[8])\n",
        "    f += n\n",
        "    d += aim*n\n",
        "  elif i[0] == 'd':\n",
        "    a = int(i[5])\n",
        "    aim += a\n",
        "  elif i[0] == 'u':\n",
        "    u = int(i[3])\n",
        "    aim -= u\n",
        "print(f*d)"
      ],
      "execution_count": null,
      "outputs": [
        {
          "output_type": "stream",
          "name": "stdout",
          "text": [
            "2015547716\n"
          ]
        }
      ]
    },
    {
      "cell_type": "markdown",
      "metadata": {
        "id": "6ILPDdCDreiD"
      },
      "source": [
        "##Day 3: Binary Diagnostic"
      ]
    },
    {
      "cell_type": "code",
      "metadata": {
        "id": "0AfkcGoOrhYp"
      },
      "source": [
        "filelocation = '/content/drive/MyDrive/AdventOfCode/input3.txt'\n",
        "file1 = open(filelocation, \"r\")\n",
        "content = file1.read().splitlines()\n",
        "file1.close()\n"
      ],
      "execution_count": null,
      "outputs": []
    },
    {
      "cell_type": "code",
      "metadata": {
        "id": "3BXvl93Ars_r"
      },
      "source": [
        "length = len(content[0])\n",
        "count1 = [0]*length\n",
        "count0 = [0]*length\n",
        "gamma, epsi = [0]*length, [0]*length\n",
        "g, e = 0, 0\n",
        "for i in content:\n",
        "  for p in range(length):\n",
        "    if i[p] == '1':\n",
        "      count1[p]+=1\n",
        "    else:\n",
        "      count0[p]+=1\n",
        "\n",
        "print(count1, count0)\n",
        "for p in range(length):\n",
        "  if count1[p] >= count0[p]:\n",
        "    gamma[p] = 1\n",
        "    g += 2**(length-p-1)\n",
        "  else:\n",
        "    epsi[p] = 1\n",
        "    e += 2**(length-p-1)\n",
        "print(gamma, epsi)\n",
        "print(g*e)"
      ],
      "execution_count": null,
      "outputs": []
    },
    {
      "cell_type": "code",
      "metadata": {
        "id": "7TnH4cJMzQnq"
      },
      "source": [
        "def partList(list1, position):\n",
        "  if len(list1) == 1:\n",
        "    return list1, list1\n",
        "  one, zero = 0, 0\n",
        "  listA,listB = [], []\n",
        "  for i in list1:\n",
        "    if i[position] == '1':\n",
        "      one+=1\n",
        "      listA.append(i)\n",
        "    else:\n",
        "      zero+=1\n",
        "      listB.append(i)\n",
        "  if one >= zero:\n",
        "    popular = listA\n",
        "    unpop = listB\n",
        "  else:\n",
        "    popular = listB\n",
        "    unpop = listA\n",
        "  print(len(popular), len(unpop))\n",
        "  return popular, unpop"
      ],
      "execution_count": null,
      "outputs": []
    },
    {
      "cell_type": "code",
      "metadata": {
        "id": "acUhbYhK4JOS"
      },
      "source": [
        "def bintodec(a):\n",
        "  l = len(a)-1\n",
        "  num = 0\n",
        "  for i in range(len(a)):\n",
        "    num += 2**(len(a)-i-1)*int(a[i])\n",
        "  return num"
      ],
      "execution_count": null,
      "outputs": []
    },
    {
      "cell_type": "code",
      "metadata": {
        "id": "ikd_hpYVvATA"
      },
      "source": [
        "popular = content.copy()\n",
        "unpop = content.copy()\n",
        "for p in range(length):\n",
        "  popular,_= partList(popular, p)\n",
        "  \n",
        "\n",
        "for p in range(length):\n",
        "  a, unpop = partList(unpop, p)\n",
        "\n",
        "p = bintodec(popular[0])\n",
        "u = bintodec(unpop[0])\n",
        "print(p,u,p*u)\n",
        "\n"
      ],
      "execution_count": null,
      "outputs": []
    },
    {
      "cell_type": "markdown",
      "source": [
        "##Day4 - Giant Squid\n"
      ],
      "metadata": {
        "id": "LiT3CoAsHxsb"
      }
    },
    {
      "cell_type": "code",
      "source": [
        "filePath = '/content/drive/MyDrive/AdventOfCode/input4.txt'\n",
        "\n",
        "line1 = np.loadtxt(filePath, delimiter = ',', max_rows=1)\n",
        "data = np.loadtxt(filePath, skiprows = 1)\n",
        "board_size = len(data[0])"
      ],
      "metadata": {
        "id": "N3xayYhVHzEH"
      },
      "execution_count": null,
      "outputs": []
    },
    {
      "cell_type": "code",
      "source": [
        "def bingo(mtx, visited, num):\n",
        "  bingo = False\n",
        "  row, col  = mtx.shape  #500,5\n",
        "  board, product = 0, 0\n",
        "  for r in range(row): \n",
        "    board = r//col\n",
        "    if np.sum(visited[r]) == col:\n",
        "      bingo = True\n",
        "      rest = np.ones([col,col]) - visited[board*5:board*5+col,:]\n",
        "      product = np.sum(data[board*5:board*5+col,:]*rest)*num\n",
        "    elif r%col == 0 and r+col <= row:\n",
        "      for c in range(col):\n",
        "        if np.sum(visited[r:r+col, c]) == col:\n",
        "          bingo = True\n",
        "          rest = np.ones([col,col]) - visited[board*5:board*5+col,:]\n",
        "          product = np.sum(mtx[board*5:board*5+col,:]*rest)*num\n",
        "  return bingo, product, board"
      ],
      "metadata": {
        "id": "K7vI_m0B4OlL"
      },
      "execution_count": null,
      "outputs": []
    },
    {
      "cell_type": "code",
      "source": [
        "def which_win(mtx, visited, line1):\n",
        "  row, col  = mtx.shape\n",
        "  bingoo, product, board = False, 0, 0\n",
        "  visited = np.zeros(mtx.shape)\n",
        "  for num in line1:\n",
        "    for r in range(row):\n",
        "      for c in range(col):\n",
        "        if mtx[r][c] == num:\n",
        "          visited[r][c] = 1\n",
        "          bingoo, product, board = bingo(mtx, visited, num)\n",
        "          if bingoo == True:\n",
        "            print(visited[board*5:board*5+col,:])\n",
        "            print(data[board*5:board*5+col,:])\n",
        "            return product, visited, board     \n",
        "  return 0,0"
      ],
      "metadata": {
        "id": "kxptDep0-DPw"
      },
      "execution_count": null,
      "outputs": []
    },
    {
      "cell_type": "code",
      "source": [
        "print(which_win(data,visited,line1))"
      ],
      "metadata": {
        "id": "_3vwb94o_jf3"
      },
      "execution_count": null,
      "outputs": []
    },
    {
      "cell_type": "code",
      "source": [
        "def which_lose(mtx, visited, line1):\n",
        "  row, col  = mtx.shape\n",
        "  bingoo, product_f, board = False, 0, 0\n",
        "  visited = np.zeros(mtx.shape)\n",
        "  not_won = np.ones(len(mtx), dtype=bool) #not won is true, won is false\n",
        "  for num in line1:\n",
        "    for r in range(row):\n",
        "      board = r//5\n",
        "      if not_won[r] == True:\n",
        "        for c in range(col):\n",
        "          if mtx[r][c] == num:\n",
        "            visited[r][c] = 1\n",
        "            bingoo, _ , _ = bingo(mtx[not_won], visited[not_won], num)\n",
        "            if bingoo == True:\n",
        "              bingoo = False\n",
        "              rest = np.ones([len(mtx[not_won]),col]) - visited[not_won]\n",
        "              product_f = np.sum(rest*mtx[not_won])* num\n",
        "              not_won[board*5:board*5+col] = False\n",
        "  return product_f"
      ],
      "metadata": {
        "id": "5QdjIvv_RElP"
      },
      "execution_count": null,
      "outputs": []
    },
    {
      "cell_type": "code",
      "source": [
        "print(which_lose(data,visited,line1))\n"
      ],
      "metadata": {
        "colab": {
          "base_uri": "https://localhost:8080/"
        },
        "id": "BCsw3dusIeg1",
        "outputId": "e48d7e28-d895-48b8-8774-03e5c867840f"
      },
      "execution_count": null,
      "outputs": [
        {
          "output_type": "stream",
          "name": "stdout",
          "text": [
            "1830.0\n"
          ]
        }
      ]
    },
    {
      "cell_type": "markdown",
      "source": [
        "##DAY 5: Hydrothermal Venture"
      ],
      "metadata": {
        "id": "vnpWBsvJwevB"
      }
    },
    {
      "cell_type": "code",
      "source": [
        "def generate_lines(filePath, delimiters=[]):\n",
        "    with open(filePath) as f:\n",
        "        for line in f:\n",
        "          line = line.strip() #removes newline character from end\n",
        "          for d in delimiters:\n",
        "            line =line.replace(d, ' ')\n",
        "          yield line"
      ],
      "metadata": {
        "id": "R_bsfP5P2QI3"
      },
      "execution_count": null,
      "outputs": []
    },
    {
      "cell_type": "code",
      "source": [
        "filePath = '/content/drive/MyDrive/AdventOfCode/input5.txt'\n",
        "#filePath = '/content/drive/MyDrive/AdventOfCode/test.txt'\n",
        "newfile = generate_lines(filePath, [',', '->'])\n",
        "data = np.loadtxt(newfile, dtype=int)"
      ],
      "metadata": {
        "id": "c2Err5_nwghQ"
      },
      "execution_count": null,
      "outputs": []
    },
    {
      "cell_type": "code",
      "source": [
        "def filterout(data):\n",
        "  mask = np.zeros(len(data), dtype=bool)\n",
        "  for i in range(len(data)):\n",
        "    if data[i][0] == data[i][2] or data[i][1] == data[i][3]:\n",
        "      mask[i] = True\n",
        "  return mask\n",
        "\n",
        "def draw(data, board):\n",
        "  for i in data:\n",
        "    x =  np.array([i[0], i[2]])\n",
        "    y =  np.array([i[1], i[3]])\n",
        "    x.sort()\n",
        "    y.sort()\n",
        "    board[x[0]:x[1]+1,y[0]:y[1]+1] += 1\n",
        "  tot = (board >= 2).sum()\n",
        "  return tot, board\n",
        "\n",
        "board = np.zeros([1000,1000])\n",
        "mask = filterout(data)\n",
        "truedata = data[mask]\n",
        "tot, board = draw(truedata, board)\n",
        "print(tot)"
      ],
      "metadata": {
        "colab": {
          "base_uri": "https://localhost:8080/"
        },
        "id": "tWo_xrQg_K3m",
        "outputId": "4de0ce39-c8da-4878-f69a-2e0bdb116a3d"
      },
      "execution_count": null,
      "outputs": [
        {
          "output_type": "stream",
          "name": "stdout",
          "text": [
            "6007\n"
          ]
        }
      ]
    },
    {
      "cell_type": "code",
      "source": [
        "diagdata = data[~mask]\n",
        "\n",
        "def diagcase(data, board):\n",
        "  for i in data:\n",
        "    corner, size, diagmtx = creatdiagmtx(i)\n",
        "    x, y = corner[0], corner[1]\n",
        "    board[x:x+size, y:y+size] += diagmtx\n",
        "  tot = (board >= 2).sum()\n",
        "  return tot, board\n",
        "\n",
        "def creatdiagmtx(a):\n",
        "  x1, y1, x2, y2 = a[0], a[1], a[2], a[3]\n",
        "  size = np.absolute(x1-x2)+1\n",
        "  corner =[x1,y1]\n",
        "  diagmtx = np.identity(size) #np.fill_diagonal(zeromtx, 1)\n",
        "  if x1 <= x2 and y1 >= y2:\n",
        "    corner = [x1, y2]\n",
        "    diagmtx = np.fliplr(diagmtx)\n",
        "  if x1 >= x2 and y1 >= y2:\n",
        "    corner = [x2, y2]\n",
        "  if x1 >= x2 and y1 <= y2:\n",
        "    corner = [x2, y1]\n",
        "    diagmtx = np.fliplr(diagmtx)\n",
        "  return corner, size, diagmtx"
      ],
      "metadata": {
        "id": "soM6G6R1v_Ml"
      },
      "execution_count": null,
      "outputs": []
    },
    {
      "cell_type": "code",
      "source": [
        "tot, b = diagcase(diagdata, board)\n",
        "print(tot)"
      ],
      "metadata": {
        "colab": {
          "base_uri": "https://localhost:8080/"
        },
        "id": "vEsKQrwsmS4M",
        "outputId": "81820263-d04e-4188-a552-f7a0f2780ad5"
      },
      "execution_count": null,
      "outputs": [
        {
          "output_type": "stream",
          "name": "stdout",
          "text": [
            "19349\n",
            "[[0. 0. 0. ... 0. 0. 0.]\n",
            " [0. 0. 0. ... 0. 0. 0.]\n",
            " [0. 0. 0. ... 0. 0. 0.]\n",
            " ...\n",
            " [0. 0. 0. ... 0. 0. 0.]\n",
            " [0. 0. 0. ... 0. 0. 0.]\n",
            " [0. 0. 0. ... 0. 0. 0.]]\n"
          ]
        }
      ]
    }
  ]
}